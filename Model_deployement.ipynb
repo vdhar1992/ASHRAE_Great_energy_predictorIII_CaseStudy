{
  "nbformat": 4,
  "nbformat_minor": 0,
  "metadata": {
    "colab": {
      "name": "Ashrae_deployement.ipynb",
      "provenance": [],
      "collapsed_sections": [],
      "toc_visible": true
    },
    "kernelspec": {
      "display_name": "Python 3",
      "name": "python3"
    },
    "language_info": {
      "name": "python"
    }
  },
  "cells": [
    {
      "cell_type": "markdown",
      "metadata": {
        "id": "XFw4bORmn5c0"
      },
      "source": [
        "# ASHRAE_Deployement"
      ]
    },
    {
      "cell_type": "code",
      "metadata": {
        "colab": {
          "base_uri": "https://localhost:8080/"
        },
        "id": "2dnBscNsU4Fp",
        "outputId": "524174a7-252d-4a44-8e59-f60396b45d31"
      },
      "source": [
        "#installing streamlit and pyngrok\n",
        "!pip -q install streamlit\n",
        "!pip -q install pyngrok"
      ],
      "execution_count": null,
      "outputs": [
        {
          "output_type": "stream",
          "text": [
            "\u001b[K     |████████████████████████████████| 8.2MB 14.8MB/s \n",
            "\u001b[K     |████████████████████████████████| 174kB 66.4MB/s \n",
            "\u001b[K     |████████████████████████████████| 112kB 63.1MB/s \n",
            "\u001b[K     |████████████████████████████████| 4.2MB 49.7MB/s \n",
            "\u001b[K     |████████████████████████████████| 81kB 7.3MB/s \n",
            "\u001b[K     |████████████████████████████████| 71kB 7.1MB/s \n",
            "\u001b[K     |████████████████████████████████| 122kB 68.5MB/s \n",
            "\u001b[?25h  Building wheel for blinker (setup.py) ... \u001b[?25l\u001b[?25hdone\n",
            "\u001b[31mERROR: google-colab 1.0.0 has requirement ipykernel~=4.10, but you'll have ipykernel 5.5.5 which is incompatible.\u001b[0m\n",
            "\u001b[K     |████████████████████████████████| 747kB 14.4MB/s \n",
            "\u001b[?25h  Building wheel for pyngrok (setup.py) ... \u001b[?25l\u001b[?25hdone\n"
          ],
          "name": "stdout"
        }
      ]
    },
    {
      "cell_type": "code",
      "metadata": {
        "id": "qZWn6UBp0i6j"
      },
      "source": [
        "from pyngrok import ngrok\n",
        "from sklearn.preprocessing import LabelEncoder\n",
        "import joblib\n",
        "import pandas as pd\n",
        "import numpy as np\n",
        "import lightgbm as lgb"
      ],
      "execution_count": null,
      "outputs": []
    },
    {
      "cell_type": "code",
      "metadata": {
        "colab": {
          "base_uri": "https://localhost:8080/"
        },
        "id": "S0bACdIH1-uF",
        "outputId": "1b383750-2df1-45a0-b30c-018ba3d91299"
      },
      "source": [
        "%%writefile app.py\n",
        "\n",
        "from pyngrok import ngrok\n",
        "from sklearn.preprocessing import LabelEncoder\n",
        "import joblib\n",
        "import pandas as pd\n",
        "import numpy as np\n",
        "import streamlit as st\n",
        "import lightgbm as lgb\n",
        "\n",
        "file_upload= st.file_uploader(\"Select a file\")\n",
        "if file_upload is not None:\n",
        "  query_point= pd.read_csv(file_upload)\n",
        "  x_train= pd.read_pickle('/content/drive/MyDrive/Appliedai files/Case study 1/Data/final_x.pkl')\n",
        "  gbdt_model= joblib.load('/content/drive/MyDrive/Appliedai files/Case study 1/Data/lgb_reg.sav')\n",
        "  #handling missing values\n",
        "  query_point['air_temperature'].fillna(0, inplace=True)\n",
        "  query_point['cloud_coverage'].fillna(0, inplace=True)\n",
        "  query_point['precip_depth_1_hr'].fillna(0, inplace=True)\n",
        "  query_point['sea_level_pressure'].fillna(0, inplace=True)\n",
        "  query_point['wind_direction'].fillna(0, inplace=True)\n",
        "  query_point['wind_speed'].fillna(0, inplace=True)\n",
        "\n",
        "  #Label encoding primary use and season column\n",
        "  label_enc= LabelEncoder()\n",
        "  label_enc.fit(x_train['primary_use'])\n",
        "  query_point['primary_use']= label_enc.transform(query_point['primary_use'])\n",
        "\n",
        "  label_enc.fit(x_train['season'])\n",
        "  query_point['season']= label_enc.transform(query_point['season'])\n",
        "  #predicting the data point\n",
        "  log_energy_usage= gbdt_model.predict(query_point)\n",
        "  energy_usage= np.expm1(log_energy_usage)\n",
        "  #display the predicted output in webpage\n",
        "  st.subheader('Predicted energy usage:')\n",
        "  st.write(energy_usage)\n"
      ],
      "execution_count": null,
      "outputs": [
        {
          "output_type": "stream",
          "text": [
            "Overwriting app.py\n"
          ],
          "name": "stdout"
        }
      ]
    },
    {
      "cell_type": "code",
      "metadata": {
        "colab": {
          "base_uri": "https://localhost:8080/"
        },
        "id": "sf7_wmMJkWXI",
        "outputId": "b499719a-45ac-4ccf-b99e-01bc07b436de"
      },
      "source": [
        "#authentiacting tunnel\n",
        "!ngrok authtoken 1s9EWYEkYGU9J6chwq2Z0Hucw5R_2iBbA53YyhmegQY3b67nm"
      ],
      "execution_count": null,
      "outputs": [
        {
          "output_type": "stream",
          "text": [
            "Authtoken saved to configuration file: /root/.ngrok2/ngrok.yml\n"
          ],
          "name": "stdout"
        }
      ]
    },
    {
      "cell_type": "code",
      "metadata": {
        "colab": {
          "base_uri": "https://localhost:8080/"
        },
        "id": "GRen5tbZkYYb",
        "outputId": "2a7d3b75-8d31-4a75-fd01-f68fd1053b04"
      },
      "source": [
        "public_url = ngrok.connect(port='80')\n",
        "print (public_url)\n",
        "!streamlit run --server.port 80 app.py >/dev/null"
      ],
      "execution_count": null,
      "outputs": [
        {
          "output_type": "stream",
          "text": [
            "NgrokTunnel: \"http://dc9eacbb3f77.ngrok.io\" -> \"http://localhost:80\"\n",
            "2021-06-05 12:01:37.071 An update to the [server] config option section was detected. To have these changes be reflected, please restart streamlit.\n"
          ],
          "name": "stdout"
        }
      ]
    },
    {
      "cell_type": "markdown",
      "metadata": {
        "id": "o8fUVaq1HBUH"
      },
      "source": [
        "# Video Link for Deployement\n",
        "\n",
        "https://youtu.be/kt1VZgE3gL4"
      ]
    }
  ]
}